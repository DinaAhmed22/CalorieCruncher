{
 "cells": [
  {
   "cell_type": "markdown",
   "id": "c747a4c2",
   "metadata": {},
   "source": [
    "Imports"
   ]
  },
  {
   "cell_type": "code",
   "execution_count": 57,
   "id": "3a6c6b22",
   "metadata": {},
   "outputs": [],
   "source": [
    "import pandas as pd\n",
    "import numpy as np\n",
    "import matplotlib.pyplot as plt\n",
    "import seaborn as sns\n",
    "from sklearn.model_selection import train_test_split\n",
    "from sklearn.preprocessing import StandardScaler\n",
    "from sklearn.linear_model import LinearRegression\n",
    "from sklearn.metrics import mean_squared_error, r2_score\n",
    "import joblib"
   ]
  },
  {
   "cell_type": "markdown",
   "id": "ff9a6b9e",
   "metadata": {},
   "source": [
    "Read Dataset and Display it"
   ]
  },
  {
   "cell_type": "code",
   "execution_count": 36,
   "id": "8ef38dd4",
   "metadata": {},
   "outputs": [
    {
     "name": "stdout",
     "output_type": "stream",
     "text": [
      "        User_ID  Gender  Age  Height  Weight  Duration  Heart_Rate  Body_Temp  \\\n",
      "0      14733363    male   68   190.0    94.0      29.0       105.0       40.8   \n",
      "1      14861698  female   20   166.0    60.0      14.0        94.0       40.3   \n",
      "2      11179863    male   69   179.0    79.0       5.0        88.0       38.7   \n",
      "3      16180408  female   34   179.0    71.0      13.0       100.0       40.5   \n",
      "4      17771927  female   27   154.0    58.0      10.0        81.0       39.8   \n",
      "...         ...     ...  ...     ...     ...       ...         ...        ...   \n",
      "14995  15644082  female   20   193.0    86.0      11.0        92.0       40.4   \n",
      "14996  17212577  female   27   165.0    65.0       6.0        85.0       39.2   \n",
      "14997  17271188  female   43   159.0    58.0      16.0        90.0       40.1   \n",
      "14998  18643037    male   78   193.0    97.0       2.0        84.0       38.3   \n",
      "14999  11751526    male   63   173.0    79.0      18.0        92.0       40.5   \n",
      "\n",
      "       Calories  \n",
      "0         231.0  \n",
      "1          66.0  \n",
      "2          26.0  \n",
      "3          71.0  \n",
      "4          35.0  \n",
      "...         ...  \n",
      "14995      45.0  \n",
      "14996      23.0  \n",
      "14997      75.0  \n",
      "14998      11.0  \n",
      "14999      98.0  \n",
      "\n",
      "[15000 rows x 9 columns]\n"
     ]
    }
   ],
   "source": [
    "import pandas as pd\n",
    "Calories_dataset=pd.read_csv(\"D:\\AI\\DataScience\\CaloriesBurnt\\calories.csv\")\n",
    "print(Calories_dataset)\n"
   ]
  },
  {
   "cell_type": "markdown",
   "id": "5e2547c4",
   "metadata": {},
   "source": [
    "Prepsocessing"
   ]
  },
  {
   "cell_type": "markdown",
   "id": "813adf15",
   "metadata": {},
   "source": [
    "Check If Nan Values Exist"
   ]
  },
  {
   "cell_type": "code",
   "execution_count": 37,
   "id": "f04d8c46",
   "metadata": {},
   "outputs": [
    {
     "name": "stdout",
     "output_type": "stream",
     "text": [
      "User_ID       0\n",
      "Gender        0\n",
      "Age           0\n",
      "Height        0\n",
      "Weight        0\n",
      "Duration      0\n",
      "Heart_Rate    0\n",
      "Body_Temp     0\n",
      "Calories      0\n",
      "dtype: int64\n",
      "Any NaN values?: False\n"
     ]
    }
   ],
   "source": [
    "print(Calories_dataset.isnull().sum())  # Shows count of NaN per column\n",
    "\n",
    "# OR check if there are ANY NaN values in whole dataframe\n",
    "print(\"Any NaN values?:\",Calories_dataset.isnull().values.any())"
   ]
  },
  {
   "cell_type": "markdown",
   "id": "75d134d8",
   "metadata": {},
   "source": [
    "Drop User_ID because it doesn’t affect calorie prediction,\n",
    "and this will prevent overfitting\n",
    "\n"
   ]
  },
  {
   "cell_type": "code",
   "execution_count": 38,
   "id": "7a116121",
   "metadata": {},
   "outputs": [
    {
     "name": "stdout",
     "output_type": "stream",
     "text": [
      "       Gender  Age  Height  Weight  Duration  Heart_Rate  Body_Temp  Calories\n",
      "0        male   68   190.0    94.0      29.0       105.0       40.8     231.0\n",
      "1      female   20   166.0    60.0      14.0        94.0       40.3      66.0\n",
      "2        male   69   179.0    79.0       5.0        88.0       38.7      26.0\n",
      "3      female   34   179.0    71.0      13.0       100.0       40.5      71.0\n",
      "4      female   27   154.0    58.0      10.0        81.0       39.8      35.0\n",
      "...       ...  ...     ...     ...       ...         ...        ...       ...\n",
      "14995  female   20   193.0    86.0      11.0        92.0       40.4      45.0\n",
      "14996  female   27   165.0    65.0       6.0        85.0       39.2      23.0\n",
      "14997  female   43   159.0    58.0      16.0        90.0       40.1      75.0\n",
      "14998    male   78   193.0    97.0       2.0        84.0       38.3      11.0\n",
      "14999    male   63   173.0    79.0      18.0        92.0       40.5      98.0\n",
      "\n",
      "[15000 rows x 8 columns]\n"
     ]
    }
   ],
   "source": [
    "Calories_dataset = Calories_dataset.drop('User_ID',axis=1)  \n",
    "print(Calories_dataset)"
   ]
  },
  {
   "cell_type": "markdown",
   "id": "0c857ff1",
   "metadata": {},
   "source": [
    "One-Hot Encoding = Turning Categories into Vectors\n",
    "We represent each category as a vector of 0s and 1s.\n",
    "\n",
    "Example:\n",
    "\n",
    "css\n",
    "Copy\n",
    "Edit\n",
    "Gender → Male, Female\n",
    "\n",
    "Male   → [1, 0]\n",
    "Female → [0, 1]"
   ]
  },
  {
   "cell_type": "code",
   "execution_count": 41,
   "id": "9b259d90",
   "metadata": {},
   "outputs": [
    {
     "name": "stdout",
     "output_type": "stream",
     "text": [
      "Gender column not found, skipping encoding.\n",
      "After Hot Encoding\n",
      "       Age  Height  Weight  Duration  Heart_Rate  Body_Temp  Calories  \\\n",
      "0       68   190.0    94.0      29.0       105.0       40.8     231.0   \n",
      "1       20   166.0    60.0      14.0        94.0       40.3      66.0   \n",
      "2       69   179.0    79.0       5.0        88.0       38.7      26.0   \n",
      "3       34   179.0    71.0      13.0       100.0       40.5      71.0   \n",
      "4       27   154.0    58.0      10.0        81.0       39.8      35.0   \n",
      "...    ...     ...     ...       ...         ...        ...       ...   \n",
      "14995   20   193.0    86.0      11.0        92.0       40.4      45.0   \n",
      "14996   27   165.0    65.0       6.0        85.0       39.2      23.0   \n",
      "14997   43   159.0    58.0      16.0        90.0       40.1      75.0   \n",
      "14998   78   193.0    97.0       2.0        84.0       38.3      11.0   \n",
      "14999   63   173.0    79.0      18.0        92.0       40.5      98.0   \n",
      "\n",
      "       Gender_male  \n",
      "0                1  \n",
      "1                0  \n",
      "2                1  \n",
      "3                0  \n",
      "4                0  \n",
      "...            ...  \n",
      "14995            0  \n",
      "14996            0  \n",
      "14997            0  \n",
      "14998            1  \n",
      "14999            1  \n",
      "\n",
      "[15000 rows x 8 columns]\n"
     ]
    }
   ],
   "source": [
    "if 'Gender' in Calories_dataset.columns:\n",
    "    Calories_dataset= pd.get_dummies(Calories_dataset, columns=['Gender'], drop_first=True)\n",
    "    \n",
    "else:\n",
    "    print(\"Gender column not found, skipping encoding.\")\n",
    "print(\"After Hot Encoding\")\n",
    "print(Calories_dataset)\n"
   ]
  },
  {
   "cell_type": "markdown",
   "id": "ebeaac57",
   "metadata": {},
   "source": [
    " Split features & target(calories)"
   ]
  },
  {
   "cell_type": "code",
   "execution_count": 43,
   "id": "6e422bf8",
   "metadata": {},
   "outputs": [],
   "source": [
    "X= Calories_dataset.drop('Calories',axis=1)\n",
    "y= Calories_dataset['Calories']"
   ]
  },
  {
   "cell_type": "markdown",
   "id": "63a11164",
   "metadata": {},
   "source": [
    " Split into Train (70%), Validation (15%), Test (15%)"
   ]
  },
  {
   "cell_type": "code",
   "execution_count": 44,
   "id": "fdfebf82",
   "metadata": {},
   "outputs": [],
   "source": [
    "X_train, X_temp, y_train, y_temp = train_test_split(X, y, test_size=0.3, random_state=42)\n",
    "X_val, X_test, y_val, y_test = train_test_split(X_temp, y_temp, test_size=0.5, random_state=42)"
   ]
  },
  {
   "cell_type": "markdown",
   "id": "6d82743f",
   "metadata": {},
   "source": [
    "Standarization Scaling"
   ]
  },
  {
   "cell_type": "code",
   "execution_count": 51,
   "id": "125645ba",
   "metadata": {},
   "outputs": [],
   "source": [
    "scaler = StandardScaler()             # Create scaler\n",
    "X_train_scaled = scaler.fit_transform(X_train)  # Fit on training and transform\n",
    "X_val_scaled = scaler.transform(X_val)          # Transform validation set\n",
    "X_test_scaled = scaler.transform(X_test)        # Transform test set"
   ]
  },
  {
   "cell_type": "markdown",
   "id": "7a1b9324",
   "metadata": {},
   "source": [
    "Train Linear Regression Model"
   ]
  },
  {
   "cell_type": "code",
   "execution_count": 52,
   "id": "aa65fa96",
   "metadata": {},
   "outputs": [],
   "source": [
    "model = LinearRegression()        # Create model instance\n",
    "model.fit(X_train_scaled, y_train)  # Train model on training data\n",
    "y_val_pred = model.predict(X_val_scaled)  # Predictions for validation"
   ]
  },
  {
   "cell_type": "markdown",
   "id": "701402f5",
   "metadata": {},
   "source": [
    "Evaluate Model On Validation"
   ]
  },
  {
   "cell_type": "code",
   "execution_count": 53,
   "id": "27e3a849",
   "metadata": {},
   "outputs": [
    {
     "name": "stdout",
     "output_type": "stream",
     "text": [
      "\n",
      "Validation MSE: 129.43\n",
      "Validation R²: 0.967\n"
     ]
    }
   ],
   "source": [
    "val_mse = mean_squared_error(y_val, y_val_pred)  # Mean Squared Error\n",
    "val_r2 = r2_score(y_val, y_val_pred)            # R² Score\n",
    "print(f\"\\nValidation MSE: {val_mse:.2f}\")\n",
    "print(f\"Validation R²: {val_r2:.3f}\")"
   ]
  },
  {
   "cell_type": "markdown",
   "id": "fa49f9ac",
   "metadata": {},
   "source": [
    "Evaluate Model on Test Dataset"
   ]
  },
  {
   "cell_type": "code",
   "execution_count": 54,
   "id": "714dd408",
   "metadata": {},
   "outputs": [
    {
     "name": "stdout",
     "output_type": "stream",
     "text": [
      "\n",
      "Test MSE: 136.40\n",
      "Test R²: 0.966\n"
     ]
    }
   ],
   "source": [
    "y_test_pred = model.predict(X_test_scaled)   # Predictions on test set\n",
    "test_mse = mean_squared_error(y_test, y_test_pred)\n",
    "test_r2 = r2_score(y_test, y_test_pred)\n",
    "print(f\"\\nTest MSE: {test_mse:.2f}\")\n",
    "print(f\"Test R²: {test_r2:.3f}\")"
   ]
  },
  {
   "cell_type": "markdown",
   "id": "1fe8b4bc",
   "metadata": {},
   "source": [
    "Check Model Coeff"
   ]
  },
  {
   "cell_type": "code",
   "execution_count": 55,
   "id": "7a98fcfa",
   "metadata": {},
   "outputs": [
    {
     "name": "stdout",
     "output_type": "stream",
     "text": [
      "\n",
      "Feature Coefficients:\n",
      "              Coefficient\n",
      "Age             8.460986\n",
      "Height         -2.532620\n",
      "Weight          4.461420\n",
      "Duration       55.191797\n",
      "Heart_Rate     18.966810\n",
      "Body_Temp     -13.240901\n",
      "Gender_male    -0.676440\n"
     ]
    }
   ],
   "source": [
    "coefficients = pd.DataFrame(model.coef_, index=X.columns, columns=['Coefficient'])\n",
    "print(\"\\nFeature Coefficients:\\n\", coefficients)"
   ]
  },
  {
   "cell_type": "markdown",
   "id": "23532052",
   "metadata": {},
   "source": [
    "Visualization"
   ]
  },
  {
   "cell_type": "code",
   "execution_count": 56,
   "id": "2ce5e1ee",
   "metadata": {},
   "outputs": [
    {
     "data": {
      "image/png": "[encoded data removed]",
      "text/plain": [
       "<Figure size 600x600 with 1 Axes>"
      ]
     },
     "metadata": {},
     "output_type": "display_data"
    }
   ],
   "source": [
    "plt.figure(figsize=(6,6))\n",
    "sns.scatterplot(x=y_test, y=y_test_pred)\n",
    "plt.xlabel(\"Actual Calories\")\n",
    "plt.ylabel(\"Predicted Calories\")\n",
    "plt.title(\"Actual vs Predicted Calories\")\n",
    "plt.plot([y_test.min(), y_test.max()], [y_test.min(), y_test.max()], color='red')  # Ideal line\n",
    "plt.show()"
   ]
  },
  {
   "cell_type": "markdown",
   "id": "b0420317",
   "metadata": {},
   "source": [
    "Save Model and Scalar"
   ]
  },
  {
   "cell_type": "code",
   "execution_count": 58,
   "id": "6bac405b",
   "metadata": {},
   "outputs": [
    {
     "name": "stdout",
     "output_type": "stream",
     "text": [
      "Model and Scaler saved!\n"
     ]
    }
   ],
   "source": [
    "joblib.dump(model, \"linear_calories_model.pkl\")   # Save trained model\n",
    "joblib.dump(scaler, \"scaler.pkl\")                 # Save scaler\n",
    "print(\"Model and Scaler saved!\")"
   ]
  }
 ],
 "metadata": {
  "kernelspec": {
   "display_name": "Python 3",
   "language": "python",
   "name": "python3"
  },
  "language_info": {
   "codemirror_mode": {
    "name": "ipython",
    "version": 3
   },
   "file_extension": ".py",
   "mimetype": "text/x-python",
   "name": "python",
   "nbconvert_exporter": "python",
   "pygments_lexer": "ipython3",
   "version": "3.9.0"
  }
 },
 "nbformat": 4,
 "nbformat_minor": 5
}
